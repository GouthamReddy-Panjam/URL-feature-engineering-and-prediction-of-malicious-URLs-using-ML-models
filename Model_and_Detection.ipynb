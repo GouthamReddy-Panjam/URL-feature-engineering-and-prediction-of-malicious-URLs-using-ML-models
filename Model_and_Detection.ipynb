{
  "cells": [
    {
      "cell_type": "code",
      "execution_count": 136,
      "metadata": {
        "colab": {
          "base_uri": "https://localhost:8080/",
          "height": 70
        },
        "colab_type": "code",
        "id": "C297HhYulXcb",
        "outputId": "d6e2a9df-586e-4192-b8ec-1e7b7025c0c3"
      },
      "outputs": [],
      "source": [
        "import pandas as pd\n",
        "import numpy as np\n",
        "import seaborn as sns\n",
        "import matplotlib.pyplot as plt"
      ]
    },
    {
      "cell_type": "code",
      "execution_count": 137,
      "metadata": {
        "colab": {
          "base_uri": "https://localhost:8080/",
          "height": 217
        },
        "colab_type": "code",
        "id": "fVPglpaf4REa",
        "outputId": "eef4a4ca-e12d-4cd3-e011-20376fc752a2"
      },
      "outputs": [
        {
          "data": {
            "text/html": [
              "<div>\n",
              "<style scoped>\n",
              "    .dataframe tbody tr th:only-of-type {\n",
              "        vertical-align: middle;\n",
              "    }\n",
              "\n",
              "    .dataframe tbody tr th {\n",
              "        vertical-align: top;\n",
              "    }\n",
              "\n",
              "    .dataframe thead th {\n",
              "        text-align: right;\n",
              "    }\n",
              "</style>\n",
              "<table border=\"1\" class=\"dataframe\">\n",
              "  <thead>\n",
              "    <tr style=\"text-align: right;\">\n",
              "      <th></th>\n",
              "      <th>Domain</th>\n",
              "      <th>Have_IP</th>\n",
              "      <th>Have_At</th>\n",
              "      <th>URL_Length</th>\n",
              "      <th>URL_Depth</th>\n",
              "      <th>Redirection</th>\n",
              "      <th>https_Domain</th>\n",
              "      <th>TinyURL</th>\n",
              "      <th>Prefix/Suffix</th>\n",
              "      <th>DNS_Record</th>\n",
              "      <th>Web_Traffic</th>\n",
              "      <th>Domain_Age</th>\n",
              "      <th>Domain_End</th>\n",
              "      <th>iFrame</th>\n",
              "      <th>Mouse_Over</th>\n",
              "      <th>Right_Click</th>\n",
              "      <th>Web_Forwards</th>\n",
              "      <th>Label</th>\n",
              "    </tr>\n",
              "  </thead>\n",
              "  <tbody>\n",
              "    <tr>\n",
              "      <th>0</th>\n",
              "      <td>graphicriver.net</td>\n",
              "      <td>0</td>\n",
              "      <td>0</td>\n",
              "      <td>1</td>\n",
              "      <td>1</td>\n",
              "      <td>0</td>\n",
              "      <td>0</td>\n",
              "      <td>0</td>\n",
              "      <td>0</td>\n",
              "      <td>1</td>\n",
              "      <td>0</td>\n",
              "      <td>1</td>\n",
              "      <td>1</td>\n",
              "      <td>0</td>\n",
              "      <td>0</td>\n",
              "      <td>1</td>\n",
              "      <td>0</td>\n",
              "      <td>0</td>\n",
              "    </tr>\n",
              "    <tr>\n",
              "      <th>1</th>\n",
              "      <td>ecnavi.jp</td>\n",
              "      <td>0</td>\n",
              "      <td>0</td>\n",
              "      <td>1</td>\n",
              "      <td>1</td>\n",
              "      <td>1</td>\n",
              "      <td>0</td>\n",
              "      <td>0</td>\n",
              "      <td>0</td>\n",
              "      <td>1</td>\n",
              "      <td>0</td>\n",
              "      <td>1</td>\n",
              "      <td>1</td>\n",
              "      <td>0</td>\n",
              "      <td>0</td>\n",
              "      <td>1</td>\n",
              "      <td>0</td>\n",
              "      <td>0</td>\n",
              "    </tr>\n",
              "    <tr>\n",
              "      <th>2</th>\n",
              "      <td>hubpages.com</td>\n",
              "      <td>0</td>\n",
              "      <td>0</td>\n",
              "      <td>1</td>\n",
              "      <td>1</td>\n",
              "      <td>0</td>\n",
              "      <td>0</td>\n",
              "      <td>0</td>\n",
              "      <td>0</td>\n",
              "      <td>1</td>\n",
              "      <td>0</td>\n",
              "      <td>1</td>\n",
              "      <td>1</td>\n",
              "      <td>0</td>\n",
              "      <td>0</td>\n",
              "      <td>1</td>\n",
              "      <td>0</td>\n",
              "      <td>0</td>\n",
              "    </tr>\n",
              "    <tr>\n",
              "      <th>3</th>\n",
              "      <td>extratorrent.cc</td>\n",
              "      <td>0</td>\n",
              "      <td>0</td>\n",
              "      <td>1</td>\n",
              "      <td>3</td>\n",
              "      <td>0</td>\n",
              "      <td>0</td>\n",
              "      <td>0</td>\n",
              "      <td>0</td>\n",
              "      <td>1</td>\n",
              "      <td>1</td>\n",
              "      <td>1</td>\n",
              "      <td>1</td>\n",
              "      <td>0</td>\n",
              "      <td>0</td>\n",
              "      <td>1</td>\n",
              "      <td>0</td>\n",
              "      <td>0</td>\n",
              "    </tr>\n",
              "    <tr>\n",
              "      <th>4</th>\n",
              "      <td>icicibank.com</td>\n",
              "      <td>0</td>\n",
              "      <td>0</td>\n",
              "      <td>1</td>\n",
              "      <td>3</td>\n",
              "      <td>0</td>\n",
              "      <td>0</td>\n",
              "      <td>0</td>\n",
              "      <td>0</td>\n",
              "      <td>1</td>\n",
              "      <td>0</td>\n",
              "      <td>1</td>\n",
              "      <td>1</td>\n",
              "      <td>0</td>\n",
              "      <td>0</td>\n",
              "      <td>1</td>\n",
              "      <td>0</td>\n",
              "      <td>0</td>\n",
              "    </tr>\n",
              "  </tbody>\n",
              "</table>\n",
              "</div>"
            ],
            "text/plain": [
              "             Domain  Have_IP  Have_At  URL_Length  URL_Depth  Redirection  \\\n",
              "0  graphicriver.net        0        0           1          1            0   \n",
              "1         ecnavi.jp        0        0           1          1            1   \n",
              "2      hubpages.com        0        0           1          1            0   \n",
              "3   extratorrent.cc        0        0           1          3            0   \n",
              "4     icicibank.com        0        0           1          3            0   \n",
              "\n",
              "   https_Domain  TinyURL  Prefix/Suffix  DNS_Record  Web_Traffic  Domain_Age  \\\n",
              "0             0        0              0           1            0           1   \n",
              "1             0        0              0           1            0           1   \n",
              "2             0        0              0           1            0           1   \n",
              "3             0        0              0           1            1           1   \n",
              "4             0        0              0           1            0           1   \n",
              "\n",
              "   Domain_End  iFrame  Mouse_Over  Right_Click  Web_Forwards  Label  \n",
              "0           1       0           0            1             0      0  \n",
              "1           1       0           0            1             0      0  \n",
              "2           1       0           0            1             0      0  \n",
              "3           1       0           0            1             0      0  \n",
              "4           1       0           0            1             0      0  "
            ]
          },
          "execution_count": 137,
          "metadata": {},
          "output_type": "execute_result"
        }
      ],
      "source": [
        "data0 = pd.read_csv('./data/urldata.csv')\n",
        "data0.head()"
      ]
    },
    {
      "cell_type": "code",
      "execution_count": 138,
      "metadata": {
        "colab": {
          "base_uri": "https://localhost:8080/",
          "height": 33
        },
        "colab_type": "code",
        "id": "4hARIXyGKorc",
        "outputId": "bc223e7f-4529-4ebe-e7d0-7eef13e691c0"
      },
      "outputs": [
        {
          "data": {
            "text/plain": [
              "(2000, 18)"
            ]
          },
          "execution_count": 138,
          "metadata": {},
          "output_type": "execute_result"
        }
      ],
      "source": [
        "#Checking the shape of the dataset\n",
        "data0.shape"
      ]
    },
    {
      "cell_type": "code",
      "execution_count": 139,
      "metadata": {
        "colab": {
          "base_uri": "https://localhost:8080/",
          "height": 100
        },
        "colab_type": "code",
        "id": "Q3uBm9ObMyaG",
        "outputId": "551b4c2e-8b33-4a6a-c3e9-f168066915de"
      },
      "outputs": [
        {
          "data": {
            "text/plain": [
              "Index(['Domain', 'Have_IP', 'Have_At', 'URL_Length', 'URL_Depth',\n",
              "       'Redirection', 'https_Domain', 'TinyURL', 'Prefix/Suffix', 'DNS_Record',\n",
              "       'Web_Traffic', 'Domain_Age', 'Domain_End', 'iFrame', 'Mouse_Over',\n",
              "       'Right_Click', 'Web_Forwards', 'Label'],\n",
              "      dtype='object')"
            ]
          },
          "execution_count": 139,
          "metadata": {},
          "output_type": "execute_result"
        }
      ],
      "source": [
        "#Listing the features of the dataset\n",
        "data0.columns"
      ]
    },
    {
      "cell_type": "code",
      "execution_count": 140,
      "metadata": {
        "colab": {
          "base_uri": "https://localhost:8080/",
          "height": 433
        },
        "colab_type": "code",
        "id": "gBMqupCMM74V",
        "outputId": "0e530eb9-699d-4ece-800d-8e853fc9d6ca"
      },
      "outputs": [
        {
          "name": "stdout",
          "output_type": "stream",
          "text": [
            "<class 'pandas.core.frame.DataFrame'>\n",
            "RangeIndex: 2000 entries, 0 to 1999\n",
            "Data columns (total 18 columns):\n",
            " #   Column         Non-Null Count  Dtype \n",
            "---  ------         --------------  ----- \n",
            " 0   Domain         2000 non-null   object\n",
            " 1   Have_IP        2000 non-null   int64 \n",
            " 2   Have_At        2000 non-null   int64 \n",
            " 3   URL_Length     2000 non-null   int64 \n",
            " 4   URL_Depth      2000 non-null   int64 \n",
            " 5   Redirection    2000 non-null   int64 \n",
            " 6   https_Domain   2000 non-null   int64 \n",
            " 7   TinyURL        2000 non-null   int64 \n",
            " 8   Prefix/Suffix  2000 non-null   int64 \n",
            " 9   DNS_Record     2000 non-null   int64 \n",
            " 10  Web_Traffic    2000 non-null   int64 \n",
            " 11  Domain_Age     2000 non-null   int64 \n",
            " 12  Domain_End     2000 non-null   int64 \n",
            " 13  iFrame         2000 non-null   int64 \n",
            " 14  Mouse_Over     2000 non-null   int64 \n",
            " 15  Right_Click    2000 non-null   int64 \n",
            " 16  Web_Forwards   2000 non-null   int64 \n",
            " 17  Label          2000 non-null   int64 \n",
            "dtypes: int64(17), object(1)\n",
            "memory usage: 281.4+ KB\n"
          ]
        }
      ],
      "source": [
        "#Information about the dataset\n",
        "data0.info()"
      ]
    },
    {
      "cell_type": "markdown",
      "metadata": {
        "colab_type": "text",
        "id": "CfrxhE3pNfiw"
      },
      "source": [
        "We try to visualize the data by plottings and graphs to find how the data is distributed and the how features are related to each other."
      ]
    },
    {
      "cell_type": "code",
      "execution_count": 141,
      "metadata": {
        "colab": {
          "base_uri": "https://localhost:8080/",
          "height": 879
        },
        "colab_type": "code",
        "id": "N9K0yAdAM70w",
        "outputId": "05687b93-945e-4fee-c3da-baae065ad528"
      },
      "outputs": [
        {
          "data": {
            "image/png": "[encoded data removed]",
            "text/plain": [
              "<Figure size 1080x1080 with 20 Axes>"
            ]
          },
          "metadata": {
            "needs_background": "light"
          },
          "output_type": "display_data"
        }
      ],
      "source": [
        "#Plotting the data distribution\n",
        "data0.hist(bins = 50,figsize = (15,15))\n",
        "plt.show()"
      ]
    },
    {
      "cell_type": "markdown",
      "metadata": {
        "colab_type": "text",
        "id": "9cbVPMe8NxFN"
      },
      "source": [
        "Applying data preprocesssing techniques and transform the data to use it in the models."
      ]
    },
    {
      "cell_type": "code",
      "execution_count": 142,
      "metadata": {
        "colab": {
          "base_uri": "https://localhost:8080/",
          "height": 307
        },
        "colab_type": "code",
        "id": "b_HKPelgnmf8",
        "outputId": "f9fb9a1b-0ddc-470a-f4c0-db248a1a94f3"
      },
      "outputs": [
        {
          "data": {
            "text/html": [
              "<div>\n",
              "<style scoped>\n",
              "    .dataframe tbody tr th:only-of-type {\n",
              "        vertical-align: middle;\n",
              "    }\n",
              "\n",
              "    .dataframe tbody tr th {\n",
              "        vertical-align: top;\n",
              "    }\n",
              "\n",
              "    .dataframe thead th {\n",
              "        text-align: right;\n",
              "    }\n",
              "</style>\n",
              "<table border=\"1\" class=\"dataframe\">\n",
              "  <thead>\n",
              "    <tr style=\"text-align: right;\">\n",
              "      <th></th>\n",
              "      <th>Have_IP</th>\n",
              "      <th>Have_At</th>\n",
              "      <th>URL_Length</th>\n",
              "      <th>URL_Depth</th>\n",
              "      <th>Redirection</th>\n",
              "      <th>https_Domain</th>\n",
              "      <th>TinyURL</th>\n",
              "      <th>Prefix/Suffix</th>\n",
              "      <th>DNS_Record</th>\n",
              "      <th>Web_Traffic</th>\n",
              "      <th>Domain_Age</th>\n",
              "      <th>Domain_End</th>\n",
              "      <th>iFrame</th>\n",
              "      <th>Mouse_Over</th>\n",
              "      <th>Right_Click</th>\n",
              "      <th>Web_Forwards</th>\n",
              "      <th>Label</th>\n",
              "    </tr>\n",
              "  </thead>\n",
              "  <tbody>\n",
              "    <tr>\n",
              "      <th>count</th>\n",
              "      <td>2000.0</td>\n",
              "      <td>2000.000000</td>\n",
              "      <td>2000.000000</td>\n",
              "      <td>2000.000000</td>\n",
              "      <td>2000.00000</td>\n",
              "      <td>2000.0</td>\n",
              "      <td>2000.000000</td>\n",
              "      <td>2000.000000</td>\n",
              "      <td>2000.0</td>\n",
              "      <td>2000.000000</td>\n",
              "      <td>2000.0</td>\n",
              "      <td>2000.0</td>\n",
              "      <td>2000.000000</td>\n",
              "      <td>2000.000000</td>\n",
              "      <td>2000.0</td>\n",
              "      <td>2000.000000</td>\n",
              "      <td>2000.000000</td>\n",
              "    </tr>\n",
              "    <tr>\n",
              "      <th>mean</th>\n",
              "      <td>0.0</td>\n",
              "      <td>0.020500</td>\n",
              "      <td>0.614000</td>\n",
              "      <td>2.160500</td>\n",
              "      <td>0.01650</td>\n",
              "      <td>0.0</td>\n",
              "      <td>0.071000</td>\n",
              "      <td>0.110000</td>\n",
              "      <td>1.0</td>\n",
              "      <td>0.523000</td>\n",
              "      <td>1.0</td>\n",
              "      <td>1.0</td>\n",
              "      <td>0.178500</td>\n",
              "      <td>0.135000</td>\n",
              "      <td>1.0</td>\n",
              "      <td>0.172500</td>\n",
              "      <td>0.500000</td>\n",
              "    </tr>\n",
              "    <tr>\n",
              "      <th>std</th>\n",
              "      <td>0.0</td>\n",
              "      <td>0.141738</td>\n",
              "      <td>0.486952</td>\n",
              "      <td>2.147334</td>\n",
              "      <td>0.12742</td>\n",
              "      <td>0.0</td>\n",
              "      <td>0.256889</td>\n",
              "      <td>0.312968</td>\n",
              "      <td>0.0</td>\n",
              "      <td>0.499596</td>\n",
              "      <td>0.0</td>\n",
              "      <td>0.0</td>\n",
              "      <td>0.383029</td>\n",
              "      <td>0.341809</td>\n",
              "      <td>0.0</td>\n",
              "      <td>0.377909</td>\n",
              "      <td>0.500125</td>\n",
              "    </tr>\n",
              "    <tr>\n",
              "      <th>min</th>\n",
              "      <td>0.0</td>\n",
              "      <td>0.000000</td>\n",
              "      <td>0.000000</td>\n",
              "      <td>0.000000</td>\n",
              "      <td>0.00000</td>\n",
              "      <td>0.0</td>\n",
              "      <td>0.000000</td>\n",
              "      <td>0.000000</td>\n",
              "      <td>1.0</td>\n",
              "      <td>0.000000</td>\n",
              "      <td>1.0</td>\n",
              "      <td>1.0</td>\n",
              "      <td>0.000000</td>\n",
              "      <td>0.000000</td>\n",
              "      <td>1.0</td>\n",
              "      <td>0.000000</td>\n",
              "      <td>0.000000</td>\n",
              "    </tr>\n",
              "    <tr>\n",
              "      <th>25%</th>\n",
              "      <td>0.0</td>\n",
              "      <td>0.000000</td>\n",
              "      <td>0.000000</td>\n",
              "      <td>0.000000</td>\n",
              "      <td>0.00000</td>\n",
              "      <td>0.0</td>\n",
              "      <td>0.000000</td>\n",
              "      <td>0.000000</td>\n",
              "      <td>1.0</td>\n",
              "      <td>0.000000</td>\n",
              "      <td>1.0</td>\n",
              "      <td>1.0</td>\n",
              "      <td>0.000000</td>\n",
              "      <td>0.000000</td>\n",
              "      <td>1.0</td>\n",
              "      <td>0.000000</td>\n",
              "      <td>0.000000</td>\n",
              "    </tr>\n",
              "    <tr>\n",
              "      <th>50%</th>\n",
              "      <td>0.0</td>\n",
              "      <td>0.000000</td>\n",
              "      <td>1.000000</td>\n",
              "      <td>2.000000</td>\n",
              "      <td>0.00000</td>\n",
              "      <td>0.0</td>\n",
              "      <td>0.000000</td>\n",
              "      <td>0.000000</td>\n",
              "      <td>1.0</td>\n",
              "      <td>1.000000</td>\n",
              "      <td>1.0</td>\n",
              "      <td>1.0</td>\n",
              "      <td>0.000000</td>\n",
              "      <td>0.000000</td>\n",
              "      <td>1.0</td>\n",
              "      <td>0.000000</td>\n",
              "      <td>0.500000</td>\n",
              "    </tr>\n",
              "    <tr>\n",
              "      <th>75%</th>\n",
              "      <td>0.0</td>\n",
              "      <td>0.000000</td>\n",
              "      <td>1.000000</td>\n",
              "      <td>3.000000</td>\n",
              "      <td>0.00000</td>\n",
              "      <td>0.0</td>\n",
              "      <td>0.000000</td>\n",
              "      <td>0.000000</td>\n",
              "      <td>1.0</td>\n",
              "      <td>1.000000</td>\n",
              "      <td>1.0</td>\n",
              "      <td>1.0</td>\n",
              "      <td>0.000000</td>\n",
              "      <td>0.000000</td>\n",
              "      <td>1.0</td>\n",
              "      <td>0.000000</td>\n",
              "      <td>1.000000</td>\n",
              "    </tr>\n",
              "    <tr>\n",
              "      <th>max</th>\n",
              "      <td>0.0</td>\n",
              "      <td>1.000000</td>\n",
              "      <td>1.000000</td>\n",
              "      <td>14.000000</td>\n",
              "      <td>1.00000</td>\n",
              "      <td>0.0</td>\n",
              "      <td>1.000000</td>\n",
              "      <td>1.000000</td>\n",
              "      <td>1.0</td>\n",
              "      <td>1.000000</td>\n",
              "      <td>1.0</td>\n",
              "      <td>1.0</td>\n",
              "      <td>1.000000</td>\n",
              "      <td>1.000000</td>\n",
              "      <td>1.0</td>\n",
              "      <td>1.000000</td>\n",
              "      <td>1.000000</td>\n",
              "    </tr>\n",
              "  </tbody>\n",
              "</table>\n",
              "</div>"
            ],
            "text/plain": [
              "       Have_IP      Have_At   URL_Length    URL_Depth  Redirection  \\\n",
              "count   2000.0  2000.000000  2000.000000  2000.000000   2000.00000   \n",
              "mean       0.0     0.020500     0.614000     2.160500      0.01650   \n",
              "std        0.0     0.141738     0.486952     2.147334      0.12742   \n",
              "min        0.0     0.000000     0.000000     0.000000      0.00000   \n",
              "25%        0.0     0.000000     0.000000     0.000000      0.00000   \n",
              "50%        0.0     0.000000     1.000000     2.000000      0.00000   \n",
              "75%        0.0     0.000000     1.000000     3.000000      0.00000   \n",
              "max        0.0     1.000000     1.000000    14.000000      1.00000   \n",
              "\n",
              "       https_Domain      TinyURL  Prefix/Suffix  DNS_Record  Web_Traffic  \\\n",
              "count        2000.0  2000.000000    2000.000000      2000.0  2000.000000   \n",
              "mean            0.0     0.071000       0.110000         1.0     0.523000   \n",
              "std             0.0     0.256889       0.312968         0.0     0.499596   \n",
              "min             0.0     0.000000       0.000000         1.0     0.000000   \n",
              "25%             0.0     0.000000       0.000000         1.0     0.000000   \n",
              "50%             0.0     0.000000       0.000000         1.0     1.000000   \n",
              "75%             0.0     0.000000       0.000000         1.0     1.000000   \n",
              "max             0.0     1.000000       1.000000         1.0     1.000000   \n",
              "\n",
              "       Domain_Age  Domain_End       iFrame   Mouse_Over  Right_Click  \\\n",
              "count      2000.0      2000.0  2000.000000  2000.000000       2000.0   \n",
              "mean          1.0         1.0     0.178500     0.135000          1.0   \n",
              "std           0.0         0.0     0.383029     0.341809          0.0   \n",
              "min           1.0         1.0     0.000000     0.000000          1.0   \n",
              "25%           1.0         1.0     0.000000     0.000000          1.0   \n",
              "50%           1.0         1.0     0.000000     0.000000          1.0   \n",
              "75%           1.0         1.0     0.000000     0.000000          1.0   \n",
              "max           1.0         1.0     1.000000     1.000000          1.0   \n",
              "\n",
              "       Web_Forwards        Label  \n",
              "count   2000.000000  2000.000000  \n",
              "mean       0.172500     0.500000  \n",
              "std        0.377909     0.500125  \n",
              "min        0.000000     0.000000  \n",
              "25%        0.000000     0.000000  \n",
              "50%        0.000000     0.500000  \n",
              "75%        0.000000     1.000000  \n",
              "max        1.000000     1.000000  "
            ]
          },
          "execution_count": 142,
          "metadata": {},
          "output_type": "execute_result"
        }
      ],
      "source": [
        "data0.describe()"
      ]
    },
    {
      "cell_type": "markdown",
      "metadata": {
        "colab_type": "text",
        "id": "XBqTcpqen_fB"
      },
      "source": [
        "Except 'Domain' & 'URL_Depth' columns, all other data are either 0 or 1. The Domain column doesnt have any significance to the machine learning model training. So dropping the Domain column from the dataset. "
      ]
    },
    {
      "cell_type": "code",
      "execution_count": 143,
      "metadata": {
        "colab": {},
        "colab_type": "code",
        "id": "tdpRw0Bcn_K1"
      },
      "outputs": [],
      "source": [
        "#Dropping the Domain column\n",
        "data = data0.drop(['Domain'], axis = 1).copy()"
      ]
    },
    {
      "cell_type": "code",
      "execution_count": 144,
      "metadata": {
        "colab": {
          "base_uri": "https://localhost:8080/",
          "height": 317
        },
        "colab_type": "code",
        "id": "iGO3nWV1nvW1",
        "outputId": "f9cc1bae-b91b-483d-a1ca-44aea204dae5"
      },
      "outputs": [
        {
          "data": {
            "text/plain": [
              "Have_IP          0\n",
              "Have_At          0\n",
              "URL_Length       0\n",
              "URL_Depth        0\n",
              "Redirection      0\n",
              "https_Domain     0\n",
              "TinyURL          0\n",
              "Prefix/Suffix    0\n",
              "DNS_Record       0\n",
              "Web_Traffic      0\n",
              "Domain_Age       0\n",
              "Domain_End       0\n",
              "iFrame           0\n",
              "Mouse_Over       0\n",
              "Right_Click      0\n",
              "Web_Forwards     0\n",
              "Label            0\n",
              "dtype: int64"
            ]
          },
          "execution_count": 144,
          "metadata": {},
          "output_type": "execute_result"
        }
      ],
      "source": [
        "#checking the data for null or missing values\n",
        "data.isnull().sum()"
      ]
    },
    {
      "cell_type": "markdown",
      "metadata": {
        "colab_type": "text",
        "id": "5xo6cAqAqJOq"
      },
      "source": [
        "In the feature extraction file, there has been no shuffling before or after concatination of legit and phishing URLs. This resulted in top 5000 rows of legitimate url data & bottom 5000 of phishing url data. \n",
        "We need to shuffle to evenly distribute them while splitting into train and test data, as this will remove the case of overfitting while model training."
      ]
    },
    {
      "cell_type": "code",
      "execution_count": 145,
      "metadata": {
        "colab": {
          "base_uri": "https://localhost:8080/",
          "height": 217
        },
        "colab_type": "code",
        "id": "4LZnaoU_qBsz",
        "outputId": "df212692-ea66-4d67-a4aa-00a256010f69"
      },
      "outputs": [
        {
          "data": {
            "text/html": [
              "<div>\n",
              "<style scoped>\n",
              "    .dataframe tbody tr th:only-of-type {\n",
              "        vertical-align: middle;\n",
              "    }\n",
              "\n",
              "    .dataframe tbody tr th {\n",
              "        vertical-align: top;\n",
              "    }\n",
              "\n",
              "    .dataframe thead th {\n",
              "        text-align: right;\n",
              "    }\n",
              "</style>\n",
              "<table border=\"1\" class=\"dataframe\">\n",
              "  <thead>\n",
              "    <tr style=\"text-align: right;\">\n",
              "      <th></th>\n",
              "      <th>Have_IP</th>\n",
              "      <th>Have_At</th>\n",
              "      <th>URL_Length</th>\n",
              "      <th>URL_Depth</th>\n",
              "      <th>Redirection</th>\n",
              "      <th>https_Domain</th>\n",
              "      <th>TinyURL</th>\n",
              "      <th>Prefix/Suffix</th>\n",
              "      <th>DNS_Record</th>\n",
              "      <th>Web_Traffic</th>\n",
              "      <th>Domain_Age</th>\n",
              "      <th>Domain_End</th>\n",
              "      <th>iFrame</th>\n",
              "      <th>Mouse_Over</th>\n",
              "      <th>Right_Click</th>\n",
              "      <th>Web_Forwards</th>\n",
              "      <th>Label</th>\n",
              "    </tr>\n",
              "  </thead>\n",
              "  <tbody>\n",
              "    <tr>\n",
              "      <th>0</th>\n",
              "      <td>0</td>\n",
              "      <td>0</td>\n",
              "      <td>1</td>\n",
              "      <td>1</td>\n",
              "      <td>0</td>\n",
              "      <td>0</td>\n",
              "      <td>0</td>\n",
              "      <td>0</td>\n",
              "      <td>1</td>\n",
              "      <td>0</td>\n",
              "      <td>1</td>\n",
              "      <td>1</td>\n",
              "      <td>0</td>\n",
              "      <td>0</td>\n",
              "      <td>1</td>\n",
              "      <td>0</td>\n",
              "      <td>0</td>\n",
              "    </tr>\n",
              "    <tr>\n",
              "      <th>1</th>\n",
              "      <td>0</td>\n",
              "      <td>0</td>\n",
              "      <td>0</td>\n",
              "      <td>0</td>\n",
              "      <td>0</td>\n",
              "      <td>0</td>\n",
              "      <td>0</td>\n",
              "      <td>0</td>\n",
              "      <td>1</td>\n",
              "      <td>1</td>\n",
              "      <td>1</td>\n",
              "      <td>1</td>\n",
              "      <td>0</td>\n",
              "      <td>0</td>\n",
              "      <td>1</td>\n",
              "      <td>0</td>\n",
              "      <td>1</td>\n",
              "    </tr>\n",
              "    <tr>\n",
              "      <th>2</th>\n",
              "      <td>0</td>\n",
              "      <td>0</td>\n",
              "      <td>0</td>\n",
              "      <td>2</td>\n",
              "      <td>0</td>\n",
              "      <td>0</td>\n",
              "      <td>0</td>\n",
              "      <td>0</td>\n",
              "      <td>1</td>\n",
              "      <td>1</td>\n",
              "      <td>1</td>\n",
              "      <td>1</td>\n",
              "      <td>0</td>\n",
              "      <td>0</td>\n",
              "      <td>1</td>\n",
              "      <td>0</td>\n",
              "      <td>1</td>\n",
              "    </tr>\n",
              "    <tr>\n",
              "      <th>3</th>\n",
              "      <td>0</td>\n",
              "      <td>0</td>\n",
              "      <td>1</td>\n",
              "      <td>3</td>\n",
              "      <td>0</td>\n",
              "      <td>0</td>\n",
              "      <td>0</td>\n",
              "      <td>0</td>\n",
              "      <td>1</td>\n",
              "      <td>0</td>\n",
              "      <td>1</td>\n",
              "      <td>1</td>\n",
              "      <td>0</td>\n",
              "      <td>0</td>\n",
              "      <td>1</td>\n",
              "      <td>1</td>\n",
              "      <td>0</td>\n",
              "    </tr>\n",
              "    <tr>\n",
              "      <th>4</th>\n",
              "      <td>0</td>\n",
              "      <td>0</td>\n",
              "      <td>0</td>\n",
              "      <td>0</td>\n",
              "      <td>0</td>\n",
              "      <td>0</td>\n",
              "      <td>0</td>\n",
              "      <td>0</td>\n",
              "      <td>1</td>\n",
              "      <td>1</td>\n",
              "      <td>1</td>\n",
              "      <td>1</td>\n",
              "      <td>0</td>\n",
              "      <td>0</td>\n",
              "      <td>1</td>\n",
              "      <td>0</td>\n",
              "      <td>1</td>\n",
              "    </tr>\n",
              "  </tbody>\n",
              "</table>\n",
              "</div>"
            ],
            "text/plain": [
              "   Have_IP  Have_At  URL_Length  URL_Depth  Redirection  https_Domain  \\\n",
              "0        0        0           1          1            0             0   \n",
              "1        0        0           0          0            0             0   \n",
              "2        0        0           0          2            0             0   \n",
              "3        0        0           1          3            0             0   \n",
              "4        0        0           0          0            0             0   \n",
              "\n",
              "   TinyURL  Prefix/Suffix  DNS_Record  Web_Traffic  Domain_Age  Domain_End  \\\n",
              "0        0              0           1            0           1           1   \n",
              "1        0              0           1            1           1           1   \n",
              "2        0              0           1            1           1           1   \n",
              "3        0              0           1            0           1           1   \n",
              "4        0              0           1            1           1           1   \n",
              "\n",
              "   iFrame  Mouse_Over  Right_Click  Web_Forwards  Label  \n",
              "0       0           0            1             0      0  \n",
              "1       0           0            1             0      1  \n",
              "2       0           0            1             0      1  \n",
              "3       0           0            1             1      0  \n",
              "4       0           0            1             0      1  "
            ]
          },
          "execution_count": 145,
          "metadata": {},
          "output_type": "execute_result"
        }
      ],
      "source": [
        "# shuffling the rows in the dataset\n",
        "data = data.sample(frac=1).reset_index(drop=True)\n",
        "data.head()"
      ]
    },
    {
      "cell_type": "markdown",
      "metadata": {
        "colab_type": "text",
        "id": "4FsQosd_nycx"
      },
      "source": [
        "Now, the data is throughly preprocessed & is ready for training and testing"
      ]
    },
    {
      "cell_type": "code",
      "execution_count": 146,
      "metadata": {
        "colab": {
          "base_uri": "https://localhost:8080/",
          "height": 33
        },
        "colab_type": "code",
        "id": "FzEU-wcLN8K7",
        "outputId": "534f9839-31e6-4b19-b469-c16db57fd5a9"
      },
      "outputs": [
        {
          "data": {
            "text/plain": [
              "((2000, 16), (2000,))"
            ]
          },
          "execution_count": 146,
          "metadata": {},
          "output_type": "execute_result"
        }
      ],
      "source": [
        "# Sepratating & assigning features and target columns to X & y\n",
        "y = data['Label']\n",
        "X = data.drop('Label',axis=1)\n",
        "X.shape, y.shape"
      ]
    },
    {
      "cell_type": "code",
      "execution_count": 147,
      "metadata": {
        "colab": {
          "base_uri": "https://localhost:8080/",
          "height": 33
        },
        "colab_type": "code",
        "id": "84xKobSqAV3U",
        "outputId": "20c0a9f7-d20e-4176-f815-238727c44336"
      },
      "outputs": [
        {
          "data": {
            "text/plain": [
              "((1600, 16), (400, 16))"
            ]
          },
          "execution_count": 147,
          "metadata": {},
          "output_type": "execute_result"
        }
      ],
      "source": [
        "# Splitting the dataset into train and test sets: 80-20 split\n",
        "from sklearn.model_selection import train_test_split\n",
        "\n",
        "X_train, X_test, y_train, y_test = train_test_split(\n",
        "    X, y, test_size=0.2, random_state=12)\n",
        "X_train.shape, X_test.shape\n"
      ]
    },
    {
      "cell_type": "markdown",
      "metadata": {
        "colab_type": "text",
        "id": "ah9B035xOjs1"
      },
      "source": [
        "#### Training\n",
        "This is a supervised machine learning task. We have classification and regression types.\n",
        "\n",
        "This data set comes under classification problem, as we have to predict whether the test case is 0 or 1. \n",
        "The supervised machine learning models (classification) to be used for training include:\n",
        "* Decision Tree\n",
        "* Random Forest\n",
        "* Multilayer Perceptrons\n",
        "* XGBoost\n",
        "* Support Vector Machines\n",
        "* Convolution Neural networks"
      ]
    },
    {
      "cell_type": "code",
      "execution_count": 148,
      "metadata": {
        "colab": {},
        "colab_type": "code",
        "id": "D5Tg_ei0-xPU"
      },
      "outputs": [],
      "source": [
        "#importing packages\n",
        "from sklearn.metrics import accuracy_score"
      ]
    },
    {
      "cell_type": "code",
      "execution_count": 149,
      "metadata": {
        "colab": {},
        "colab_type": "code",
        "id": "DPBHdBikSXHv"
      },
      "outputs": [],
      "source": [
        "# Creating holders to store the different models' performance results\n",
        "ML_Model = []\n",
        "acc_train = []\n",
        "acc_test = []\n",
        "\n",
        "#function to call for storing the results\n",
        "def storeResults(model, a,b):\n",
        "  ML_Model.append(model)\n",
        "  acc_train.append(round(a, 3))\n",
        "  acc_test.append(round(b, 3))"
      ]
    },
    {
      "cell_type": "markdown",
      "metadata": {
        "colab_type": "text",
        "id": "YOolxQWs-VbB"
      },
      "source": [
        "#### Decision Tree Classifier\n",
        "A decision tree is a flowchart-like structure in which each internal node represents a \"test\" on an attribute, each branch represents the outcome of the test, and each leaf node represents a class label (decision taken after computing all attributes). It is a graphical representation for getting all the possible solutions to a problem/decision based on given conditions."
      ]
    },
    {
      "cell_type": "code",
      "execution_count": 150,
      "metadata": {
        "colab": {
          "base_uri": "https://localhost:8080/",
          "height": 117
        },
        "colab_type": "code",
        "id": "1kzsjtudy-0w",
        "outputId": "80b84eba-eeb1-48d1-d95a-412b7cfb4c45"
      },
      "outputs": [
        {
          "data": {
            "text/plain": [
              "DecisionTreeClassifier(max_depth=5)"
            ]
          },
          "execution_count": 150,
          "metadata": {},
          "output_type": "execute_result"
        }
      ],
      "source": [
        "# Decision Tree model \n",
        "from sklearn.tree import DecisionTreeClassifier\n",
        "\n",
        "# instantiate the model \n",
        "tree = DecisionTreeClassifier(max_depth = 5)\n",
        "# fit the model \n",
        "tree.fit(X_train, y_train)"
      ]
    },
    {
      "cell_type": "code",
      "execution_count": 151,
      "metadata": {
        "colab": {},
        "colab_type": "code",
        "id": "cpPk7O-MrTZi"
      },
      "outputs": [],
      "source": [
        "#predicting the target value from the model for the samples\n",
        "y_test_tree = tree.predict(X_test)\n",
        "y_train_tree = tree.predict(X_train)"
      ]
    },
    {
      "cell_type": "code",
      "execution_count": 152,
      "metadata": {
        "colab": {
          "base_uri": "https://localhost:8080/",
          "height": 50
        },
        "colab_type": "code",
        "id": "X4wDTnFZrz3q",
        "outputId": "a8bf5873-8185-4f18-e0f0-87717975e5a0"
      },
      "outputs": [
        {
          "name": "stdout",
          "output_type": "stream",
          "text": [
            "Decision Tree: Accuracy on training Data: 0.924\n",
            "Decision Tree: Accuracy on test Data: 0.922\n"
          ]
        }
      ],
      "source": [
        "#computing the accuracy of the model performance\n",
        "acc_train_tree = accuracy_score(y_train,y_train_tree)\n",
        "acc_test_tree = accuracy_score(y_test,y_test_tree)\n",
        "\n",
        "print(\"Decision Tree: Accuracy on training Data: {:.3f}\".format(acc_train_tree))\n",
        "print(\"Decision Tree: Accuracy on test Data: {:.3f}\".format(acc_test_tree))"
      ]
    },
    {
      "cell_type": "code",
      "execution_count": 153,
      "metadata": {
        "colab": {
          "base_uri": "https://localhost:8080/",
          "height": 442
        },
        "colab_type": "code",
        "id": "LITrJdVGWwTl",
        "outputId": "363e0abd-28df-4703-b784-5f5af37cab30"
      },
      "outputs": [
        {
          "data": {
            "image/png": "[encoded data removed]",
            "text/plain": [
              "<Figure size 648x504 with 1 Axes>"
            ]
          },
          "metadata": {
            "needs_background": "light"
          },
          "output_type": "display_data"
        }
      ],
      "source": [
        "#checking the feature improtance in the model\n",
        "plt.figure(figsize=(9,7))\n",
        "n_features = X_train.shape[1]\n",
        "plt.barh(range(n_features), tree.feature_importances_, align='center')\n",
        "plt.yticks(np.arange(n_features), X_train.columns)\n",
        "plt.xlabel(\"Feature importance\")\n",
        "plt.ylabel(\"Feature\")\n",
        "plt.show()"
      ]
    },
    {
      "cell_type": "code",
      "execution_count": 154,
      "metadata": {
        "colab": {},
        "colab_type": "code",
        "id": "5XKvXxr9RSxl"
      },
      "outputs": [],
      "source": [
        "#storing the results. The below mentioned order of parameter passing is important.\n",
        "#Caution: Execute only once to avoid duplications.\n",
        "storeResults('Decision Tree', acc_train_tree, acc_test_tree)"
      ]
    },
    {
      "cell_type": "markdown",
      "metadata": {
        "colab_type": "text",
        "id": "LuDTMcmb-n5x"
      },
      "source": [
        "#### Random Forest Classifier\n",
        "Random forests or random decision forests is an ensemble learning method for classification, regression and other tasks that operates by constructing a multitude of decision trees at training time. They are very powerful, often work well without heavy tuning of the parameters, and don’t require scaling of the data. It takes the average of subsets of trees formed to improve the predictive accuracy of that dataset"
      ]
    },
    {
      "cell_type": "code",
      "execution_count": 155,
      "metadata": {
        "colab": {
          "base_uri": "https://localhost:8080/",
          "height": 150
        },
        "colab_type": "code",
        "id": "2fmB9rPSsR6y",
        "outputId": "27ddebf4-bee1-4eec-eb4e-995d4cdc08b2"
      },
      "outputs": [
        {
          "data": {
            "text/plain": [
              "RandomForestClassifier(max_depth=5)"
            ]
          },
          "execution_count": 155,
          "metadata": {},
          "output_type": "execute_result"
        }
      ],
      "source": [
        "# Random Forest model\n",
        "from sklearn.ensemble import RandomForestClassifier\n",
        "\n",
        "# instantiate the model\n",
        "forest = RandomForestClassifier(max_depth=5)\n",
        "\n",
        "# fit the model \n",
        "forest.fit(X_train, y_train)"
      ]
    },
    {
      "cell_type": "code",
      "execution_count": 156,
      "metadata": {
        "colab": {},
        "colab_type": "code",
        "id": "J1Qck-wrsabB"
      },
      "outputs": [],
      "source": [
        "#predicting the target value from the model for the samples\n",
        "y_test_forest = forest.predict(X_test)\n",
        "y_train_forest = forest.predict(X_train)"
      ]
    },
    {
      "cell_type": "code",
      "execution_count": 157,
      "metadata": {
        "colab": {
          "base_uri": "https://localhost:8080/",
          "height": 50
        },
        "colab_type": "code",
        "id": "Oguf-37tsboO",
        "outputId": "34386ec6-a7f0-4185-b3c0-a40de3239fb7"
      },
      "outputs": [
        {
          "name": "stdout",
          "output_type": "stream",
          "text": [
            "Random forest: Accuracy on training Data: 0.926\n",
            "Random forest: Accuracy on test Data: 0.922\n"
          ]
        }
      ],
      "source": [
        "#computing the accuracy of the model performance\n",
        "acc_train_forest = accuracy_score(y_train,y_train_forest)\n",
        "acc_test_forest = accuracy_score(y_test,y_test_forest)\n",
        "\n",
        "print(\"Random forest: Accuracy on training Data: {:.3f}\".format(acc_train_forest))\n",
        "print(\"Random forest: Accuracy on test Data: {:.3f}\".format(acc_test_forest))"
      ]
    },
    {
      "cell_type": "code",
      "execution_count": 158,
      "metadata": {
        "colab": {
          "base_uri": "https://localhost:8080/",
          "height": 442
        },
        "colab_type": "code",
        "id": "m9GZGxvZ9jnB",
        "outputId": "465186a8-d622-4427-c148-9dff349b40eb"
      },
      "outputs": [
        {
          "data": {
            "image/png": "[encoded data removed]",
            "text/plain": [
              "<Figure size 648x504 with 1 Axes>"
            ]
          },
          "metadata": {
            "needs_background": "light"
          },
          "output_type": "display_data"
        }
      ],
      "source": [
        "#checking the feature improtance in the model\n",
        "plt.figure(figsize=(9,7))\n",
        "n_features = X_train.shape[1]\n",
        "plt.barh(range(n_features), forest.feature_importances_, align='center')\n",
        "plt.yticks(np.arange(n_features), X_train.columns)\n",
        "plt.xlabel(\"Feature importance\")\n",
        "plt.ylabel(\"Feature\")\n",
        "plt.show()"
      ]
    },
    {
      "cell_type": "code",
      "execution_count": 159,
      "metadata": {
        "colab": {},
        "colab_type": "code",
        "id": "YNf4EXHUW-FU"
      },
      "outputs": [],
      "source": [
        "#storing the results. The below mentioned order of parameter passing is important.\n",
        "#Caution: Execute only once to avoid duplications.\n",
        "storeResults('Random Forest', acc_train_forest, acc_test_forest)"
      ]
    },
    {
      "cell_type": "markdown",
      "metadata": {
        "colab_type": "text",
        "id": "VJ_EW8QUC0bn"
      },
      "source": [
        "#### Multilayer Perceptrons (MLPs): Deep Learning\n",
        "Multilayer perceptrons (MLPs) are also known as just neural networks. Multilayer perceptrons can be applied for both classification and regression problems.  A multi-layer perception is a neural network that has multiple layers. To create a neural network we combine neurons together so that the outputs of some neurons are inputs of other neurons."
      ]
    },
    {
      "cell_type": "code",
      "execution_count": 160,
      "metadata": {
        "colab": {
          "base_uri": "https://localhost:8080/",
          "height": 150
        },
        "colab_type": "code",
        "id": "JSFAbsgnAxqv",
        "outputId": "2828ce2e-95ec-4dfd-e7dd-5d3da152ea09"
      },
      "outputs": [
        {
          "data": {
            "text/plain": [
              "MLPClassifier(alpha=0.001, hidden_layer_sizes=[100, 100, 100], max_iter=500)"
            ]
          },
          "execution_count": 160,
          "metadata": {},
          "output_type": "execute_result"
        }
      ],
      "source": [
        "# Multilayer Perceptrons model\n",
        "from sklearn.neural_network import MLPClassifier\n",
        "\n",
        "# instantiate the model\n",
        "mlp = MLPClassifier(alpha=0.001, hidden_layer_sizes=([100,100,100]), max_iter=500)\n",
        "\n",
        "# fit the model \n",
        "mlp.fit(X_train, y_train)"
      ]
    },
    {
      "cell_type": "code",
      "execution_count": 161,
      "metadata": {
        "colab": {},
        "colab_type": "code",
        "id": "gyuSg6w_A4pN"
      },
      "outputs": [],
      "source": [
        "#predicting the target value from the model for the samples\n",
        "y_test_mlp = mlp.predict(X_test)\n",
        "y_train_mlp = mlp.predict(X_train)"
      ]
    },
    {
      "cell_type": "code",
      "execution_count": 162,
      "metadata": {
        "colab": {
          "base_uri": "https://localhost:8080/",
          "height": 50
        },
        "colab_type": "code",
        "id": "z2ndgKQbA64_",
        "outputId": "40ddef62-9dd4-4d55-b5ba-9932ba07a0b5"
      },
      "outputs": [
        {
          "name": "stdout",
          "output_type": "stream",
          "text": [
            "Multilayer Perceptrons: Accuracy on training Data: 0.937\n",
            "Multilayer Perceptrons: Accuracy on test Data: 0.930\n"
          ]
        }
      ],
      "source": [
        "#computing the accuracy of the model performance\n",
        "acc_train_mlp = accuracy_score(y_train,y_train_mlp)\n",
        "acc_test_mlp = accuracy_score(y_test,y_test_mlp)\n",
        "\n",
        "print(\"Multilayer Perceptrons: Accuracy on training Data: {:.3f}\".format(acc_train_mlp))\n",
        "print(\"Multilayer Perceptrons: Accuracy on test Data: {:.3f}\".format(acc_test_mlp))"
      ]
    },
    {
      "cell_type": "code",
      "execution_count": 163,
      "metadata": {
        "colab": {},
        "colab_type": "code",
        "id": "N0fsq4yEXubk"
      },
      "outputs": [],
      "source": [
        "#storing the results. The below mentioned order of parameter passing is important.\n",
        "#Caution: Execute only once to avoid duplications.\n",
        "storeResults('Multilayer Perceptrons', acc_train_mlp, acc_test_mlp)"
      ]
    },
    {
      "cell_type": "markdown",
      "metadata": {
        "colab_type": "text",
        "id": "lVuTty-KaS4c"
      },
      "source": [
        "#### XGBoost Classifier\n",
        "XGBoost is one of the most popular machine learning algorithms these days. XGBoost stands for eXtreme Gradient Boosting. XGBoost is an open-source software library which provides a regularizing gradient boosting framework. XGBoost is an implementation of gradient boosted decision trees designed for speed and performance. It yields superior results using less computing resources in the shortest amount of time"
      ]
    },
    {
      "cell_type": "code",
      "execution_count": 164,
      "metadata": {
        "colab": {
          "base_uri": "https://localhost:8080/",
          "height": 133
        },
        "colab_type": "code",
        "id": "oIIQGzxgAREc",
        "outputId": "fc27da07-7071-4fbf-9d05-05e514ad9b3e"
      },
      "outputs": [
        {
          "data": {
            "text/plain": [
              "XGBClassifier(base_score=0.5, booster='gbtree', callbacks=None,\n",
              "              colsample_bylevel=1, colsample_bynode=1, colsample_bytree=1,\n",
              "              early_stopping_rounds=None, enable_categorical=False,\n",
              "              eval_metric=None, gamma=0, gpu_id=-1, grow_policy='depthwise',\n",
              "              importance_type=None, interaction_constraints='',\n",
              "              learning_rate=0.4, max_bin=256, max_cat_to_onehot=4,\n",
              "              max_delta_step=0, max_depth=7, max_leaves=0, min_child_weight=1,\n",
              "              missing=nan, monotone_constraints='()', n_estimators=100,\n",
              "              n_jobs=0, num_parallel_tree=1, predictor='auto', random_state=0,\n",
              "              reg_alpha=0, reg_lambda=1, ...)"
            ]
          },
          "execution_count": 164,
          "metadata": {},
          "output_type": "execute_result"
        }
      ],
      "source": [
        "#XGBoost Classification model\n",
        "from xgboost import XGBClassifier\n",
        "\n",
        "# instantiate the model\n",
        "xgb = XGBClassifier(learning_rate=0.4,max_depth=7)\n",
        "#fit the model\n",
        "xgb.fit(X_train, y_train)"
      ]
    },
    {
      "cell_type": "code",
      "execution_count": 165,
      "metadata": {
        "colab": {},
        "colab_type": "code",
        "id": "_fx9xbzfAUO-"
      },
      "outputs": [],
      "source": [
        "#predicting the target value from the model for the samples\n",
        "y_test_xgb = xgb.predict(X_test)\n",
        "y_train_xgb = xgb.predict(X_train)"
      ]
    },
    {
      "cell_type": "code",
      "execution_count": 166,
      "metadata": {
        "colab": {
          "base_uri": "https://localhost:8080/",
          "height": 50
        },
        "colab_type": "code",
        "id": "x1NNeI-NaxCA",
        "outputId": "d021057e-e9bc-487d-b584-9fb2492305de"
      },
      "outputs": [
        {
          "name": "stdout",
          "output_type": "stream",
          "text": [
            "XGBoost: Accuracy on training Data: 0.938\n",
            "XGBoost : Accuracy on test Data: 0.935\n"
          ]
        }
      ],
      "source": [
        "#computing the accuracy of the model performance\n",
        "acc_train_xgb = accuracy_score(y_train,y_train_xgb)\n",
        "acc_test_xgb = accuracy_score(y_test,y_test_xgb)\n",
        "\n",
        "print(\"XGBoost: Accuracy on training Data: {:.3f}\".format(acc_train_xgb))\n",
        "print(\"XGBoost : Accuracy on test Data: {:.3f}\".format(acc_test_xgb))"
      ]
    },
    {
      "cell_type": "code",
      "execution_count": 167,
      "metadata": {
        "colab": {},
        "colab_type": "code",
        "id": "sFNo8jskaxCS"
      },
      "outputs": [],
      "source": [
        "#storing the results. The below mentioned order of parameter passing is important.\n",
        "#Caution: Execute only once to avoid duplications.\n",
        "storeResults('XGBoost', acc_train_xgb, acc_test_xgb)"
      ]
    },
    {
      "cell_type": "markdown",
      "metadata": {
        "colab_type": "text",
        "id": "plQeFh4fwB3a"
      },
      "source": [
        "#### Support Vector Machines\n",
        "In machine learning, support-vector machines (SVMs, also support-vector networks) are supervised learning models with associated learning algorithms that analyze data used for classification and regression analysis. Given a set of training examples, each marked as belonging to one or the other of two categories, an SVM training algorithm builds a model that assigns new examples to one category or the other, making it a non-probabilistic binary linear classifier. \n",
        "The goal of the SVM algorithm is to create the best line or decision boundary that can segregate n-dimensional space into classes so that we can easily put the new data point in the correct category in the future."
      ]
    },
    {
      "cell_type": "code",
      "execution_count": 168,
      "metadata": {
        "colab": {
          "base_uri": "https://localhost:8080/",
          "height": 83
        },
        "colab_type": "code",
        "id": "VBnV71QowZ07",
        "outputId": "258bc8b4-ba81-4036-c558-11923a7b0b5e"
      },
      "outputs": [
        {
          "data": {
            "text/plain": [
              "SVC(kernel='linear', random_state=12)"
            ]
          },
          "execution_count": 168,
          "metadata": {},
          "output_type": "execute_result"
        }
      ],
      "source": [
        "#Support vector machine model\n",
        "from sklearn.svm import SVC\n",
        "\n",
        "# instantiate the model\n",
        "svm = SVC(kernel='linear', C=1.0, random_state=12)\n",
        "#fit the model\n",
        "svm.fit(X_train, y_train)"
      ]
    },
    {
      "cell_type": "code",
      "execution_count": 169,
      "metadata": {
        "colab": {},
        "colab_type": "code",
        "id": "4Nlrfq-pwZ1G"
      },
      "outputs": [],
      "source": [
        "#predicting the target value from the model for the samples\n",
        "y_test_svm = svm.predict(X_test)\n",
        "y_train_svm = svm.predict(X_train)"
      ]
    },
    {
      "cell_type": "code",
      "execution_count": 170,
      "metadata": {
        "colab": {
          "base_uri": "https://localhost:8080/",
          "height": 50
        },
        "colab_type": "code",
        "id": "1ofewcVHwZ1R",
        "outputId": "3f83bfc7-f885-49a7-ed88-816e05097eac"
      },
      "outputs": [
        {
          "name": "stdout",
          "output_type": "stream",
          "text": [
            "SVM: Accuracy on training Data: 0.918\n",
            "SVM : Accuracy on test Data: 0.925\n"
          ]
        }
      ],
      "source": [
        "#computing the accuracy of the model performance\n",
        "acc_train_svm = accuracy_score(y_train,y_train_svm)\n",
        "acc_test_svm = accuracy_score(y_test,y_test_svm)\n",
        "\n",
        "print(\"SVM: Accuracy on training Data: {:.3f}\".format(acc_train_svm))\n",
        "print(\"SVM : Accuracy on test Data: {:.3f}\".format(acc_test_svm))"
      ]
    },
    {
      "cell_type": "code",
      "execution_count": 171,
      "metadata": {
        "colab": {},
        "colab_type": "code",
        "id": "4ZAc00sUwZ1d"
      },
      "outputs": [],
      "source": [
        "#storing the results. The below mentioned order of parameter passing is important.\n",
        "#Caution: Execute only once to avoid duplications.\n",
        "storeResults('SVM', acc_train_svm, acc_test_svm)"
      ]
    },
    {
      "cell_type": "markdown",
      "metadata": {},
      "source": [
        "### Using Convolution Neural networks"
      ]
    },
    {
      "cell_type": "code",
      "execution_count": 172,
      "metadata": {},
      "outputs": [],
      "source": [
        "import numpy as np\n",
        "from os import listdir\n",
        "import tensorflow as tf\n",
        "import pandas as pd\n",
        "from sklearn.model_selection import train_test_split"
      ]
    },
    {
      "cell_type": "code",
      "execution_count": 173,
      "metadata": {},
      "outputs": [],
      "source": [
        "model = tf.keras.models.Sequential()\n",
        "# this is the initial layer initialization"
      ]
    },
    {
      "cell_type": "code",
      "execution_count": 174,
      "metadata": {},
      "outputs": [],
      "source": [
        "\n",
        "# model.add(tf.keras.layers.Conv1D(filters=128,kernel_size=9, padding='same', activation='relu', input_shape=(16,))) \n",
        "# kernel_initializer = 'he_uniform', kernel_regularizer = None, kernel_constraint = 'MaxNorm', \n",
        "model.add(tf.keras.layers.Dense(64, input_shape=(16,), activation = 'relu')) \n",
        "model.add(tf.keras.layers.Dropout(0.2))"
      ]
    },
    {
      "cell_type": "code",
      "execution_count": 175,
      "metadata": {},
      "outputs": [],
      "source": [
        "model.add(tf.keras.layers.Dense(64, kernel_initializer = 'he_uniform', kernel_regularizer = None, kernel_constraint = 'MaxNorm', activation = 'relu')) \n",
        "model.add(tf.keras.layers.Dropout(0.2))"
      ]
    },
    {
      "cell_type": "code",
      "execution_count": 176,
      "metadata": {},
      "outputs": [],
      "source": [
        "model.add(tf.keras.layers.Dense(128, kernel_initializer = 'he_uniform', kernel_regularizer = None, kernel_constraint = 'MaxNorm', activation = 'relu')) \n",
        "model.add(tf.keras.layers.Dropout(0.2))"
      ]
    },
    {
      "cell_type": "code",
      "execution_count": 177,
      "metadata": {},
      "outputs": [],
      "source": [
        "model.add(tf.keras.layers.Dense(64, kernel_initializer = 'he_uniform', kernel_regularizer = None, kernel_constraint = 'MaxNorm', activation = 'relu')) \n",
        "model.add(tf.keras.layers.Dropout(0.2))"
      ]
    },
    {
      "cell_type": "code",
      "execution_count": 178,
      "metadata": {},
      "outputs": [],
      "source": [
        "model.add(tf.keras.layers.Dense(32, kernel_initializer = 'he_uniform', kernel_regularizer = None, kernel_constraint = 'MaxNorm', activation = 'relu')) \n",
        "model.add(tf.keras.layers.Dropout(0.45))"
      ]
    },
    {
      "cell_type": "code",
      "execution_count": 179,
      "metadata": {},
      "outputs": [],
      "source": [
        "model.add(tf.keras.layers.Dense(16, kernel_initializer = 'he_uniform', kernel_regularizer = None, kernel_constraint = 'MaxNorm', activation = 'relu')) \n",
        "model.add(tf.keras.layers.Dropout(0.45))\n"
      ]
    },
    {
      "cell_type": "code",
      "execution_count": 180,
      "metadata": {},
      "outputs": [],
      "source": [
        "model.add(tf.keras.layers.Flatten())"
      ]
    },
    {
      "cell_type": "code",
      "execution_count": 181,
      "metadata": {},
      "outputs": [],
      "source": [
        "model.add(tf.keras.layers.Dense(1, activation='sigmoid'))"
      ]
    },
    {
      "cell_type": "code",
      "execution_count": 182,
      "metadata": {},
      "outputs": [
        {
          "name": "stdout",
          "output_type": "stream",
          "text": [
            "Model: \"sequential_6\"\n",
            "_________________________________________________________________\n",
            " Layer (type)                Output Shape              Param #   \n",
            "=================================================================\n",
            " dense_40 (Dense)            (None, 64)                1088      \n",
            "                                                                 \n",
            " dropout_32 (Dropout)        (None, 64)                0         \n",
            "                                                                 \n",
            " dense_41 (Dense)            (None, 64)                4160      \n",
            "                                                                 \n",
            " dropout_33 (Dropout)        (None, 64)                0         \n",
            "                                                                 \n",
            " dense_42 (Dense)            (None, 128)               8320      \n",
            "                                                                 \n",
            " dropout_34 (Dropout)        (None, 128)               0         \n",
            "                                                                 \n",
            " dense_43 (Dense)            (None, 64)                8256      \n",
            "                                                                 \n",
            " dropout_35 (Dropout)        (None, 64)                0         \n",
            "                                                                 \n",
            " dense_44 (Dense)            (None, 32)                2080      \n",
            "                                                                 \n",
            " dropout_36 (Dropout)        (None, 32)                0         \n",
            "                                                                 \n",
            " dense_45 (Dense)            (None, 16)                528       \n",
            "                                                                 \n",
            " dropout_37 (Dropout)        (None, 16)                0         \n",
            "                                                                 \n",
            " flatten_6 (Flatten)         (None, 16)                0         \n",
            "                                                                 \n",
            " dense_46 (Dense)            (None, 1)                 17        \n",
            "                                                                 \n",
            "=================================================================\n",
            "Total params: 24,449\n",
            "Trainable params: 24,449\n",
            "Non-trainable params: 0\n",
            "_________________________________________________________________\n"
          ]
        }
      ],
      "source": [
        "model.summary()"
      ]
    },
    {
      "cell_type": "code",
      "execution_count": 183,
      "metadata": {},
      "outputs": [
        {
          "name": "stdout",
          "output_type": "stream",
          "text": [
            "Epoch 1/100\n",
            "2/2 [==============================] - 2s 375ms/step - loss: 0.7310 - acc: 0.5013 - val_loss: 0.6722 - val_acc: 0.5450\n",
            "Epoch 2/100\n",
            "2/2 [==============================] - 0s 54ms/step - loss: 0.7107 - acc: 0.5181 - val_loss: 0.6554 - val_acc: 0.7400\n",
            "Epoch 3/100\n",
            "2/2 [==============================] - 0s 54ms/step - loss: 0.6642 - acc: 0.5694 - val_loss: 0.6398 - val_acc: 0.8300\n",
            "Epoch 4/100\n",
            "2/2 [==============================] - 0s 54ms/step - loss: 0.6646 - acc: 0.5956 - val_loss: 0.6222 - val_acc: 0.8300\n",
            "Epoch 5/100\n",
            "2/2 [==============================] - 0s 61ms/step - loss: 0.6547 - acc: 0.6081 - val_loss: 0.6017 - val_acc: 0.8425\n",
            "Epoch 6/100\n",
            "2/2 [==============================] - 0s 54ms/step - loss: 0.6284 - acc: 0.6319 - val_loss: 0.5789 - val_acc: 0.8475\n",
            "Epoch 7/100\n",
            "2/2 [==============================] - 0s 55ms/step - loss: 0.6169 - acc: 0.6944 - val_loss: 0.5546 - val_acc: 0.8550\n",
            "Epoch 8/100\n",
            "2/2 [==============================] - 0s 55ms/step - loss: 0.5970 - acc: 0.6931 - val_loss: 0.5297 - val_acc: 0.8375\n",
            "Epoch 9/100\n",
            "2/2 [==============================] - 0s 54ms/step - loss: 0.5796 - acc: 0.7063 - val_loss: 0.5033 - val_acc: 0.8425\n",
            "Epoch 10/100\n",
            "2/2 [==============================] - 0s 55ms/step - loss: 0.5718 - acc: 0.7244 - val_loss: 0.4761 - val_acc: 0.8450\n",
            "Epoch 11/100\n",
            "2/2 [==============================] - 0s 55ms/step - loss: 0.5633 - acc: 0.7075 - val_loss: 0.4500 - val_acc: 0.8475\n",
            "Epoch 12/100\n",
            "2/2 [==============================] - 0s 55ms/step - loss: 0.5112 - acc: 0.7606 - val_loss: 0.4250 - val_acc: 0.8475\n",
            "Epoch 13/100\n",
            "2/2 [==============================] - 0s 53ms/step - loss: 0.5267 - acc: 0.7569 - val_loss: 0.4024 - val_acc: 0.8475\n",
            "Epoch 14/100\n",
            "2/2 [==============================] - 0s 53ms/step - loss: 0.4887 - acc: 0.7869 - val_loss: 0.3821 - val_acc: 0.8475\n",
            "Epoch 15/100\n",
            "2/2 [==============================] - 0s 54ms/step - loss: 0.4779 - acc: 0.7881 - val_loss: 0.3657 - val_acc: 0.8500\n",
            "Epoch 16/100\n",
            "2/2 [==============================] - 0s 55ms/step - loss: 0.4759 - acc: 0.7931 - val_loss: 0.3531 - val_acc: 0.8500\n",
            "Epoch 17/100\n",
            "2/2 [==============================] - 0s 54ms/step - loss: 0.4758 - acc: 0.7925 - val_loss: 0.3447 - val_acc: 0.8500\n",
            "Epoch 18/100\n",
            "2/2 [==============================] - 0s 61ms/step - loss: 0.4765 - acc: 0.7856 - val_loss: 0.3387 - val_acc: 0.8575\n",
            "Epoch 19/100\n",
            "2/2 [==============================] - 0s 55ms/step - loss: 0.4559 - acc: 0.8044 - val_loss: 0.3346 - val_acc: 0.8575\n",
            "Epoch 20/100\n",
            "2/2 [==============================] - 0s 54ms/step - loss: 0.4315 - acc: 0.8194 - val_loss: 0.3324 - val_acc: 0.8575\n",
            "Epoch 21/100\n",
            "2/2 [==============================] - 0s 55ms/step - loss: 0.4277 - acc: 0.8119 - val_loss: 0.3302 - val_acc: 0.8700\n",
            "Epoch 22/100\n",
            "2/2 [==============================] - 0s 54ms/step - loss: 0.4022 - acc: 0.8238 - val_loss: 0.3279 - val_acc: 0.8700\n",
            "Epoch 23/100\n",
            "2/2 [==============================] - 0s 54ms/step - loss: 0.4092 - acc: 0.8144 - val_loss: 0.3256 - val_acc: 0.8700\n",
            "Epoch 24/100\n",
            "2/2 [==============================] - 0s 54ms/step - loss: 0.3975 - acc: 0.8331 - val_loss: 0.3229 - val_acc: 0.8700\n",
            "Epoch 25/100\n",
            "2/2 [==============================] - 0s 54ms/step - loss: 0.3953 - acc: 0.8338 - val_loss: 0.3195 - val_acc: 0.8700\n",
            "Epoch 26/100\n",
            "2/2 [==============================] - 0s 53ms/step - loss: 0.3902 - acc: 0.8325 - val_loss: 0.3156 - val_acc: 0.8700\n",
            "Epoch 27/100\n",
            "2/2 [==============================] - 0s 55ms/step - loss: 0.3845 - acc: 0.8375 - val_loss: 0.3110 - val_acc: 0.8800\n",
            "Epoch 28/100\n",
            "2/2 [==============================] - 0s 55ms/step - loss: 0.3797 - acc: 0.8425 - val_loss: 0.3064 - val_acc: 0.8850\n",
            "Epoch 29/100\n",
            "2/2 [==============================] - 0s 54ms/step - loss: 0.3809 - acc: 0.8500 - val_loss: 0.3023 - val_acc: 0.8850\n",
            "Epoch 30/100\n",
            "2/2 [==============================] - 0s 53ms/step - loss: 0.3610 - acc: 0.8500 - val_loss: 0.2975 - val_acc: 0.8850\n",
            "Epoch 31/100\n",
            "2/2 [==============================] - 0s 60ms/step - loss: 0.3424 - acc: 0.8650 - val_loss: 0.2908 - val_acc: 0.8850\n",
            "Epoch 32/100\n",
            "2/2 [==============================] - 0s 57ms/step - loss: 0.3462 - acc: 0.8581 - val_loss: 0.2834 - val_acc: 0.8875\n",
            "Epoch 33/100\n",
            "2/2 [==============================] - 0s 53ms/step - loss: 0.3556 - acc: 0.8619 - val_loss: 0.2767 - val_acc: 0.8875\n",
            "Epoch 34/100\n",
            "2/2 [==============================] - 0s 57ms/step - loss: 0.3352 - acc: 0.8662 - val_loss: 0.2716 - val_acc: 0.8925\n",
            "Epoch 35/100\n",
            "2/2 [==============================] - 0s 56ms/step - loss: 0.3202 - acc: 0.8719 - val_loss: 0.2667 - val_acc: 0.8925\n",
            "Epoch 36/100\n",
            "2/2 [==============================] - 0s 56ms/step - loss: 0.3437 - acc: 0.8725 - val_loss: 0.2619 - val_acc: 0.9075\n",
            "Epoch 37/100\n",
            "2/2 [==============================] - 0s 57ms/step - loss: 0.3335 - acc: 0.8775 - val_loss: 0.2588 - val_acc: 0.9100\n",
            "Epoch 38/100\n",
            "2/2 [==============================] - 0s 57ms/step - loss: 0.3155 - acc: 0.8756 - val_loss: 0.2558 - val_acc: 0.9100\n",
            "Epoch 39/100\n",
            "2/2 [==============================] - 0s 57ms/step - loss: 0.3385 - acc: 0.8756 - val_loss: 0.2539 - val_acc: 0.9075\n",
            "Epoch 40/100\n",
            "2/2 [==============================] - 0s 58ms/step - loss: 0.3293 - acc: 0.8781 - val_loss: 0.2526 - val_acc: 0.9100\n",
            "Epoch 41/100\n",
            "2/2 [==============================] - 0s 55ms/step - loss: 0.3013 - acc: 0.8913 - val_loss: 0.2516 - val_acc: 0.9100\n",
            "Epoch 42/100\n",
            "2/2 [==============================] - 0s 53ms/step - loss: 0.3067 - acc: 0.8800 - val_loss: 0.2498 - val_acc: 0.9100\n",
            "Epoch 43/100\n",
            "2/2 [==============================] - 0s 56ms/step - loss: 0.2971 - acc: 0.8938 - val_loss: 0.2486 - val_acc: 0.9100\n",
            "Epoch 44/100\n",
            "2/2 [==============================] - 0s 54ms/step - loss: 0.3121 - acc: 0.8856 - val_loss: 0.2476 - val_acc: 0.9125\n",
            "Epoch 45/100\n",
            "2/2 [==============================] - 0s 56ms/step - loss: 0.2955 - acc: 0.8900 - val_loss: 0.2471 - val_acc: 0.9125\n",
            "Epoch 46/100\n",
            "2/2 [==============================] - 0s 54ms/step - loss: 0.3000 - acc: 0.8944 - val_loss: 0.2433 - val_acc: 0.9125\n",
            "Epoch 47/100\n",
            "2/2 [==============================] - 0s 55ms/step - loss: 0.2965 - acc: 0.8894 - val_loss: 0.2396 - val_acc: 0.9125\n",
            "Epoch 48/100\n",
            "2/2 [==============================] - 0s 56ms/step - loss: 0.2833 - acc: 0.9000 - val_loss: 0.2357 - val_acc: 0.9125\n",
            "Epoch 49/100\n",
            "2/2 [==============================] - 0s 57ms/step - loss: 0.2984 - acc: 0.8894 - val_loss: 0.2319 - val_acc: 0.9125\n",
            "Epoch 50/100\n",
            "2/2 [==============================] - 0s 54ms/step - loss: 0.2915 - acc: 0.8950 - val_loss: 0.2299 - val_acc: 0.9175\n",
            "Epoch 51/100\n",
            "2/2 [==============================] - 0s 54ms/step - loss: 0.2933 - acc: 0.8994 - val_loss: 0.2293 - val_acc: 0.9175\n",
            "Epoch 52/100\n",
            "2/2 [==============================] - 0s 57ms/step - loss: 0.2955 - acc: 0.8988 - val_loss: 0.2288 - val_acc: 0.9200\n",
            "Epoch 53/100\n",
            "2/2 [==============================] - 0s 54ms/step - loss: 0.2825 - acc: 0.8938 - val_loss: 0.2273 - val_acc: 0.9200\n",
            "Epoch 54/100\n",
            "2/2 [==============================] - 0s 54ms/step - loss: 0.2811 - acc: 0.9025 - val_loss: 0.2263 - val_acc: 0.9200\n",
            "Epoch 55/100\n",
            "2/2 [==============================] - 0s 58ms/step - loss: 0.2821 - acc: 0.8988 - val_loss: 0.2261 - val_acc: 0.9200\n",
            "Epoch 56/100\n",
            "2/2 [==============================] - 0s 56ms/step - loss: 0.2754 - acc: 0.9025 - val_loss: 0.2267 - val_acc: 0.9225\n",
            "Epoch 57/100\n",
            "2/2 [==============================] - 0s 61ms/step - loss: 0.2676 - acc: 0.9106 - val_loss: 0.2264 - val_acc: 0.9225\n",
            "Epoch 58/100\n",
            "2/2 [==============================] - 0s 55ms/step - loss: 0.2832 - acc: 0.9062 - val_loss: 0.2251 - val_acc: 0.9225\n",
            "Epoch 59/100\n",
            "2/2 [==============================] - 0s 55ms/step - loss: 0.2823 - acc: 0.9062 - val_loss: 0.2249 - val_acc: 0.9200\n",
            "Epoch 60/100\n",
            "2/2 [==============================] - 0s 55ms/step - loss: 0.2758 - acc: 0.9112 - val_loss: 0.2225 - val_acc: 0.9200\n",
            "Epoch 61/100\n",
            "2/2 [==============================] - 0s 59ms/step - loss: 0.2877 - acc: 0.9056 - val_loss: 0.2194 - val_acc: 0.9200\n",
            "Epoch 62/100\n",
            "2/2 [==============================] - 0s 56ms/step - loss: 0.2701 - acc: 0.9094 - val_loss: 0.2176 - val_acc: 0.9200\n",
            "Epoch 63/100\n",
            "2/2 [==============================] - 0s 53ms/step - loss: 0.2498 - acc: 0.9137 - val_loss: 0.2184 - val_acc: 0.9200\n",
            "Epoch 64/100\n",
            "2/2 [==============================] - 0s 57ms/step - loss: 0.2532 - acc: 0.9144 - val_loss: 0.2210 - val_acc: 0.9200\n",
            "Epoch 65/100\n",
            "2/2 [==============================] - 0s 55ms/step - loss: 0.2738 - acc: 0.9100 - val_loss: 0.2229 - val_acc: 0.9200\n",
            "Epoch 66/100\n",
            "2/2 [==============================] - 0s 56ms/step - loss: 0.2657 - acc: 0.9125 - val_loss: 0.2220 - val_acc: 0.9225\n",
            "Epoch 67/100\n",
            "2/2 [==============================] - 0s 59ms/step - loss: 0.2590 - acc: 0.9137 - val_loss: 0.2232 - val_acc: 0.9225\n",
            "Epoch 68/100\n",
            "2/2 [==============================] - 0s 57ms/step - loss: 0.2758 - acc: 0.9069 - val_loss: 0.2255 - val_acc: 0.9225\n",
            "Epoch 69/100\n",
            "2/2 [==============================] - 0s 54ms/step - loss: 0.2640 - acc: 0.9156 - val_loss: 0.2286 - val_acc: 0.9225\n",
            "Epoch 70/100\n",
            "2/2 [==============================] - 0s 55ms/step - loss: 0.2745 - acc: 0.9075 - val_loss: 0.2299 - val_acc: 0.9225\n",
            "Epoch 71/100\n",
            "2/2 [==============================] - 0s 55ms/step - loss: 0.2760 - acc: 0.9094 - val_loss: 0.2293 - val_acc: 0.9225\n",
            "Epoch 72/100\n",
            "2/2 [==============================] - 0s 60ms/step - loss: 0.2646 - acc: 0.9144 - val_loss: 0.2274 - val_acc: 0.9225\n",
            "Epoch 73/100\n",
            "2/2 [==============================] - 0s 57ms/step - loss: 0.2625 - acc: 0.9125 - val_loss: 0.2256 - val_acc: 0.9200\n",
            "Epoch 74/100\n",
            "2/2 [==============================] - 0s 56ms/step - loss: 0.2622 - acc: 0.9106 - val_loss: 0.2269 - val_acc: 0.9225\n",
            "Epoch 75/100\n",
            "2/2 [==============================] - 0s 56ms/step - loss: 0.2473 - acc: 0.9112 - val_loss: 0.2279 - val_acc: 0.9225\n",
            "Epoch 76/100\n",
            "2/2 [==============================] - 0s 59ms/step - loss: 0.2572 - acc: 0.9119 - val_loss: 0.2287 - val_acc: 0.9225\n",
            "Epoch 77/100\n",
            "2/2 [==============================] - 0s 53ms/step - loss: 0.2639 - acc: 0.9131 - val_loss: 0.2315 - val_acc: 0.9175\n",
            "Epoch 78/100\n",
            "2/2 [==============================] - 0s 56ms/step - loss: 0.2476 - acc: 0.9144 - val_loss: 0.2315 - val_acc: 0.9175\n",
            "Epoch 79/100\n",
            "2/2 [==============================] - 0s 68ms/step - loss: 0.2422 - acc: 0.9175 - val_loss: 0.2314 - val_acc: 0.9175\n",
            "Epoch 80/100\n",
            "2/2 [==============================] - 0s 52ms/step - loss: 0.2488 - acc: 0.9212 - val_loss: 0.2312 - val_acc: 0.9200\n",
            "Epoch 81/100\n",
            "2/2 [==============================] - 0s 55ms/step - loss: 0.2607 - acc: 0.9206 - val_loss: 0.2307 - val_acc: 0.9200\n",
            "Epoch 82/100\n",
            "2/2 [==============================] - 0s 53ms/step - loss: 0.2435 - acc: 0.9194 - val_loss: 0.2281 - val_acc: 0.9200\n",
            "Epoch 83/100\n",
            "2/2 [==============================] - 0s 54ms/step - loss: 0.2634 - acc: 0.9144 - val_loss: 0.2259 - val_acc: 0.9175\n",
            "Epoch 84/100\n",
            "2/2 [==============================] - 0s 54ms/step - loss: 0.2536 - acc: 0.9150 - val_loss: 0.2229 - val_acc: 0.9175\n",
            "Epoch 85/100\n",
            "2/2 [==============================] - 0s 54ms/step - loss: 0.2592 - acc: 0.9181 - val_loss: 0.2216 - val_acc: 0.9175\n",
            "Epoch 86/100\n",
            "2/2 [==============================] - 0s 57ms/step - loss: 0.2499 - acc: 0.9144 - val_loss: 0.2220 - val_acc: 0.9175\n",
            "Epoch 87/100\n",
            "2/2 [==============================] - 0s 57ms/step - loss: 0.2519 - acc: 0.9187 - val_loss: 0.2245 - val_acc: 0.9200\n",
            "Epoch 88/100\n",
            "2/2 [==============================] - 0s 57ms/step - loss: 0.2700 - acc: 0.9169 - val_loss: 0.2299 - val_acc: 0.9200\n",
            "Epoch 89/100\n",
            "2/2 [==============================] - 0s 55ms/step - loss: 0.2415 - acc: 0.9244 - val_loss: 0.2365 - val_acc: 0.9200\n",
            "Epoch 90/100\n",
            "2/2 [==============================] - 0s 55ms/step - loss: 0.2407 - acc: 0.9187 - val_loss: 0.2384 - val_acc: 0.9200\n",
            "Epoch 91/100\n",
            "2/2 [==============================] - 0s 57ms/step - loss: 0.2491 - acc: 0.9162 - val_loss: 0.2374 - val_acc: 0.9200\n",
            "Epoch 92/100\n",
            "2/2 [==============================] - 0s 56ms/step - loss: 0.2449 - acc: 0.9137 - val_loss: 0.2316 - val_acc: 0.9200\n",
            "Epoch 93/100\n",
            "2/2 [==============================] - 0s 57ms/step - loss: 0.2428 - acc: 0.9231 - val_loss: 0.2273 - val_acc: 0.9200\n",
            "Epoch 94/100\n",
            "2/2 [==============================] - 0s 58ms/step - loss: 0.2339 - acc: 0.9231 - val_loss: 0.2255 - val_acc: 0.9200\n",
            "Epoch 95/100\n",
            "2/2 [==============================] - 0s 55ms/step - loss: 0.2425 - acc: 0.9194 - val_loss: 0.2270 - val_acc: 0.9200\n",
            "Epoch 96/100\n",
            "2/2 [==============================] - 0s 55ms/step - loss: 0.2468 - acc: 0.9250 - val_loss: 0.2296 - val_acc: 0.9200\n",
            "Epoch 97/100\n",
            "2/2 [==============================] - 0s 54ms/step - loss: 0.2313 - acc: 0.9219 - val_loss: 0.2330 - val_acc: 0.9200\n",
            "Epoch 98/100\n",
            "2/2 [==============================] - 0s 54ms/step - loss: 0.2529 - acc: 0.9194 - val_loss: 0.2354 - val_acc: 0.9200\n",
            "Epoch 99/100\n",
            "2/2 [==============================] - 0s 55ms/step - loss: 0.2402 - acc: 0.9250 - val_loss: 0.2382 - val_acc: 0.9200\n",
            "Epoch 100/100\n",
            "2/2 [==============================] - 0s 59ms/step - loss: 0.2441 - acc: 0.9244 - val_loss: 0.2408 - val_acc: 0.9200\n"
          ]
        }
      ],
      "source": [
        "model.compile(loss='binary_crossentropy',\n",
        "             optimizer='adam',\n",
        "             metrics=['acc'])\n",
        "model.fit(X_train,\n",
        "         y_train,\n",
        "         batch_size=1024,\n",
        "         epochs=100,\n",
        "         validation_data=(X_test, y_test))\n",
        "model.save('model_final.h5')"
      ]
    },
    {
      "cell_type": "code",
      "execution_count": 184,
      "metadata": {},
      "outputs": [
        {
          "name": "stdout",
          "output_type": "stream",
          "text": [
            "50/50 [==============================] - 0s 5ms/step - loss: 0.2034 - acc: 0.9312\n",
            "\n",
            " Train accuracy: 0.9312499761581421\n",
            "13/13 [==============================] - 0s 4ms/step - loss: 0.2408 - acc: 0.9200\n",
            "\n",
            " Test accuracy: 0.9200000166893005\n"
          ]
        }
      ],
      "source": [
        "score1 = model.evaluate(X_train, y_train, verbose=1)\n",
        "print('\\n', 'Train accuracy:', score1[1])\n",
        "score2 = model.evaluate(X_test, y_test, verbose=1)\n",
        "print('\\n', 'Test accuracy:', score2[1])\n"
      ]
    },
    {
      "cell_type": "code",
      "execution_count": 185,
      "metadata": {},
      "outputs": [],
      "source": [
        "storeResults('Neural Network', score1[1], score2[1])"
      ]
    },
    {
      "cell_type": "markdown",
      "metadata": {
        "colab_type": "text",
        "id": "k3vsRppPv3rs"
      },
      "source": [
        "#### Comparision\n",
        "To compare the models performance, a dataframe is created. The columns of this dataframe are the lists created to store the results of the model."
      ]
    },
    {
      "cell_type": "code",
      "execution_count": 186,
      "metadata": {
        "colab": {
          "base_uri": "https://localhost:8080/",
          "height": 227
        },
        "colab_type": "code",
        "id": "RkOSzcfsv8Xl",
        "outputId": "82b2e437-b210-4b83-c3a0-dc9c5f65f9e0"
      },
      "outputs": [
        {
          "data": {
            "text/html": [
              "<div>\n",
              "<style scoped>\n",
              "    .dataframe tbody tr th:only-of-type {\n",
              "        vertical-align: middle;\n",
              "    }\n",
              "\n",
              "    .dataframe tbody tr th {\n",
              "        vertical-align: top;\n",
              "    }\n",
              "\n",
              "    .dataframe thead th {\n",
              "        text-align: right;\n",
              "    }\n",
              "</style>\n",
              "<table border=\"1\" class=\"dataframe\">\n",
              "  <thead>\n",
              "    <tr style=\"text-align: right;\">\n",
              "      <th></th>\n",
              "      <th>ML Model</th>\n",
              "      <th>Train Accuracy</th>\n",
              "      <th>Test Accuracy</th>\n",
              "    </tr>\n",
              "  </thead>\n",
              "  <tbody>\n",
              "    <tr>\n",
              "      <th>0</th>\n",
              "      <td>Decision Tree</td>\n",
              "      <td>0.924</td>\n",
              "      <td>0.922</td>\n",
              "    </tr>\n",
              "    <tr>\n",
              "      <th>1</th>\n",
              "      <td>Random Forest</td>\n",
              "      <td>0.926</td>\n",
              "      <td>0.922</td>\n",
              "    </tr>\n",
              "    <tr>\n",
              "      <th>2</th>\n",
              "      <td>Multilayer Perceptrons</td>\n",
              "      <td>0.937</td>\n",
              "      <td>0.930</td>\n",
              "    </tr>\n",
              "    <tr>\n",
              "      <th>3</th>\n",
              "      <td>XGBoost</td>\n",
              "      <td>0.938</td>\n",
              "      <td>0.935</td>\n",
              "    </tr>\n",
              "    <tr>\n",
              "      <th>4</th>\n",
              "      <td>SVM</td>\n",
              "      <td>0.918</td>\n",
              "      <td>0.925</td>\n",
              "    </tr>\n",
              "    <tr>\n",
              "      <th>5</th>\n",
              "      <td>Neural Network</td>\n",
              "      <td>0.931</td>\n",
              "      <td>0.920</td>\n",
              "    </tr>\n",
              "  </tbody>\n",
              "</table>\n",
              "</div>"
            ],
            "text/plain": [
              "                 ML Model  Train Accuracy  Test Accuracy\n",
              "0           Decision Tree           0.924          0.922\n",
              "1           Random Forest           0.926          0.922\n",
              "2  Multilayer Perceptrons           0.937          0.930\n",
              "3                 XGBoost           0.938          0.935\n",
              "4                     SVM           0.918          0.925\n",
              "5          Neural Network           0.931          0.920"
            ]
          },
          "execution_count": 186,
          "metadata": {},
          "output_type": "execute_result"
        }
      ],
      "source": [
        "#creating dataframe\n",
        "results = pd.DataFrame({ 'ML Model': ML_Model,    \n",
        "    'Train Accuracy': acc_train,\n",
        "    'Test Accuracy': acc_test})\n",
        "results"
      ]
    },
    {
      "cell_type": "code",
      "execution_count": 187,
      "metadata": {
        "colab": {
          "base_uri": "https://localhost:8080/",
          "height": 227
        },
        "colab_type": "code",
        "id": "eKheGBiHwDfK",
        "outputId": "8ff038a3-9eea-472a-e1e7-ac6be45c9882"
      },
      "outputs": [
        {
          "data": {
            "text/html": [
              "<div>\n",
              "<style scoped>\n",
              "    .dataframe tbody tr th:only-of-type {\n",
              "        vertical-align: middle;\n",
              "    }\n",
              "\n",
              "    .dataframe tbody tr th {\n",
              "        vertical-align: top;\n",
              "    }\n",
              "\n",
              "    .dataframe thead th {\n",
              "        text-align: right;\n",
              "    }\n",
              "</style>\n",
              "<table border=\"1\" class=\"dataframe\">\n",
              "  <thead>\n",
              "    <tr style=\"text-align: right;\">\n",
              "      <th></th>\n",
              "      <th>ML Model</th>\n",
              "      <th>Train Accuracy</th>\n",
              "      <th>Test Accuracy</th>\n",
              "    </tr>\n",
              "  </thead>\n",
              "  <tbody>\n",
              "    <tr>\n",
              "      <th>3</th>\n",
              "      <td>XGBoost</td>\n",
              "      <td>0.938</td>\n",
              "      <td>0.935</td>\n",
              "    </tr>\n",
              "    <tr>\n",
              "      <th>2</th>\n",
              "      <td>Multilayer Perceptrons</td>\n",
              "      <td>0.937</td>\n",
              "      <td>0.930</td>\n",
              "    </tr>\n",
              "    <tr>\n",
              "      <th>4</th>\n",
              "      <td>SVM</td>\n",
              "      <td>0.918</td>\n",
              "      <td>0.925</td>\n",
              "    </tr>\n",
              "    <tr>\n",
              "      <th>1</th>\n",
              "      <td>Random Forest</td>\n",
              "      <td>0.926</td>\n",
              "      <td>0.922</td>\n",
              "    </tr>\n",
              "    <tr>\n",
              "      <th>0</th>\n",
              "      <td>Decision Tree</td>\n",
              "      <td>0.924</td>\n",
              "      <td>0.922</td>\n",
              "    </tr>\n",
              "    <tr>\n",
              "      <th>5</th>\n",
              "      <td>Neural Network</td>\n",
              "      <td>0.931</td>\n",
              "      <td>0.920</td>\n",
              "    </tr>\n",
              "  </tbody>\n",
              "</table>\n",
              "</div>"
            ],
            "text/plain": [
              "                 ML Model  Train Accuracy  Test Accuracy\n",
              "3                 XGBoost           0.938          0.935\n",
              "2  Multilayer Perceptrons           0.937          0.930\n",
              "4                     SVM           0.918          0.925\n",
              "1           Random Forest           0.926          0.922\n",
              "0           Decision Tree           0.924          0.922\n",
              "5          Neural Network           0.931          0.920"
            ]
          },
          "execution_count": 187,
          "metadata": {},
          "output_type": "execute_result"
        }
      ],
      "source": [
        "#Sorting the datafram on accuracy\n",
        "results.sort_values(by=['Test Accuracy', 'Train Accuracy'], ascending=False)"
      ]
    },
    {
      "cell_type": "markdown",
      "metadata": {
        "colab_type": "text",
        "id": "5t9806vn601b"
      },
      "source": [
        "XGBoost Classifier works well with this train dataset."
      ]
    },
    {
      "cell_type": "code",
      "execution_count": 189,
      "metadata": {
        "colab": {},
        "colab_type": "code",
        "id": "aCIIkZ7V3AFN"
      },
      "outputs": [],
      "source": [
        "# save XGBoost model to file\n",
        "import pickle\n",
        "pickle.dump(xgb, open(\"XGBoostClassifier.pickle.dat\", \"wb\"))"
      ]
    },
    {
      "cell_type": "code",
      "execution_count": 190,
      "metadata": {
        "colab": {
          "base_uri": "https://localhost:8080/",
          "height": 133
        },
        "colab_type": "code",
        "id": "-ZEm_PS33QD-",
        "outputId": "a4195d7f-94ef-4bc7-a165-35ed2ed5493f"
      },
      "outputs": [
        {
          "data": {
            "text/plain": [
              "XGBClassifier(base_score=0.5, booster='gbtree', callbacks=None,\n",
              "              colsample_bylevel=1, colsample_bynode=1, colsample_bytree=1,\n",
              "              early_stopping_rounds=None, enable_categorical=False,\n",
              "              eval_metric=None, gamma=0, gpu_id=-1, grow_policy='depthwise',\n",
              "              importance_type=None, interaction_constraints='',\n",
              "              learning_rate=0.4, max_bin=256, max_cat_to_onehot=4,\n",
              "              max_delta_step=0, max_depth=7, max_leaves=0, min_child_weight=1,\n",
              "              missing=nan, monotone_constraints='()', n_estimators=100,\n",
              "              n_jobs=0, num_parallel_tree=1, predictor='auto', random_state=0,\n",
              "              reg_alpha=0, reg_lambda=1, ...)"
            ]
          },
          "execution_count": 190,
          "metadata": {},
          "output_type": "execute_result"
        }
      ],
      "source": [
        "# load model from file\n",
        "loaded_model = pickle.load(open(\"XGBoostClassifier.pickle.dat\", \"rb\"))\n",
        "loaded_model"
      ]
    }
  ],
  "metadata": {
    "colab": {
      "collapsed_sections": [],
      "name": "Phishing Website Detection.ipynb",
      "provenance": [],
      "toc_visible": true
    },
    "kernelspec": {
      "display_name": "Python 3.10.8 64-bit",
      "language": "python",
      "name": "python3"
    },
    "language_info": {
      "codemirror_mode": {
        "name": "ipython",
        "version": 3
      },
      "file_extension": ".py",
      "mimetype": "text/x-python",
      "name": "python",
      "nbconvert_exporter": "python",
      "pygments_lexer": "ipython3",
      "version": "3.10.8"
    },
    "vscode": {
      "interpreter": {
        "hash": "6f21bb2d5c565dbc33d815445cee0d4e3f2f7951520fd8c0e3b4200672f41bfe"
      }
    }
  },
  "nbformat": 4,
  "nbformat_minor": 0
}
